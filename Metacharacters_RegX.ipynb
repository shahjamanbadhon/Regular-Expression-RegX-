{
  "nbformat": 4,
  "nbformat_minor": 0,
  "metadata": {
    "colab": {
      "provenance": [],
      "authorship_tag": "ABX9TyN7iWAl7V7xB690k8veefHe",
      "include_colab_link": true
    },
    "kernelspec": {
      "name": "python3",
      "display_name": "Python 3"
    },
    "language_info": {
      "name": "python"
    }
  },
  "cells": [
    {
      "cell_type": "markdown",
      "metadata": {
        "id": "view-in-github",
        "colab_type": "text"
      },
      "source": [
        "<a href=\"https://colab.research.google.com/github/shahjamanbadhon/Regular-Expression-RegX-/blob/main/Metacharacters_RegX.ipynb\" target=\"_parent\"><img src=\"https://colab.research.google.com/assets/colab-badge.svg\" alt=\"Open In Colab\"/></a>"
      ]
    },
    {
      "cell_type": "code",
      "source": [
        "import re"
      ],
      "metadata": {
        "id": "xYlfDRG73hJN"
      },
      "execution_count": 2,
      "outputs": []
    },
    {
      "cell_type": "code",
      "execution_count": 3,
      "metadata": {
        "colab": {
          "base_uri": "https://localhost:8080/"
        },
        "id": "wL40IgGe3Pgr",
        "outputId": "8193152b-e629-458e-a9d6-4535c4dd3e2a"
      },
      "outputs": [
        {
          "output_type": "stream",
          "name": "stdout",
          "text": [
            "['e', 'o']\n"
          ]
        }
      ],
      "source": [
        "pattern = r'[aeiou]'\n",
        "text = \"hello\"\n",
        "matches = re.findall(pattern, text)\n",
        "print(matches)\n"
      ]
    },
    {
      "cell_type": "code",
      "source": [
        "pattern = r'[0-9]'\n",
        "text = \"I have 2 apples and 5 oranges\"\n",
        "matches = re.findall(pattern, text)\n",
        "print(matches)"
      ],
      "metadata": {
        "colab": {
          "base_uri": "https://localhost:8080/"
        },
        "id": "jeh2iG8m3mQI",
        "outputId": "bdf9d003-4ec3-4f5d-ce53-720f9c748181"
      },
      "execution_count": 4,
      "outputs": [
        {
          "output_type": "stream",
          "name": "stdout",
          "text": [
            "['2', '5']\n"
          ]
        }
      ]
    },
    {
      "cell_type": "code",
      "source": [
        "pattern = r'[A-Z]'\n",
        "text = \"Hello World\"\n",
        "matches = re.findall(pattern, text)\n",
        "print(matches)"
      ],
      "metadata": {
        "colab": {
          "base_uri": "https://localhost:8080/"
        },
        "id": "ZiMysXUr3sDZ",
        "outputId": "e1a22daa-a32f-465a-bbf8-4147c3299e9f"
      },
      "execution_count": 5,
      "outputs": [
        {
          "output_type": "stream",
          "name": "stdout",
          "text": [
            "['H', 'W']\n"
          ]
        }
      ]
    },
    {
      "cell_type": "code",
      "source": [
        "pattern = r'[a-zA-Z]'\n",
        "text = \"Hello 123!\"\n",
        "matches = re.findall(pattern, text)\n",
        "print(matches)"
      ],
      "metadata": {
        "colab": {
          "base_uri": "https://localhost:8080/"
        },
        "id": "ftQy0GKm3uqn",
        "outputId": "9555bf7d-35f8-477a-9d08-60e5fdafc9e8"
      },
      "execution_count": 6,
      "outputs": [
        {
          "output_type": "stream",
          "name": "stdout",
          "text": [
            "['H', 'e', 'l', 'l', 'o']\n"
          ]
        }
      ]
    },
    {
      "cell_type": "code",
      "source": [
        "pattern = r\"\\d\"  # যেকোনো সংখ্যা\n",
        "text = \"I have 12 apples and 5 oranges.\"\n",
        "matches = re.findall(pattern, text)\n",
        "print(matches)"
      ],
      "metadata": {
        "colab": {
          "base_uri": "https://localhost:8080/"
        },
        "id": "qhlocWUM6Fm4",
        "outputId": "f78ab074-42a0-4d51-a80d-575b7950d651"
      },
      "execution_count": 7,
      "outputs": [
        {
          "output_type": "stream",
          "name": "stdout",
          "text": [
            "['1', '2', '5']\n"
          ]
        }
      ]
    },
    {
      "cell_type": "code",
      "source": [
        "pattern = r\"\\w\"\n",
        "text = \"Hello_123!\"\n",
        "matches = re.findall(pattern, text)\n",
        "print(matches)"
      ],
      "metadata": {
        "colab": {
          "base_uri": "https://localhost:8080/"
        },
        "id": "Ni90LklI6KYt",
        "outputId": "e93a3ce3-0e46-4a5d-c297-3cfb2abc2484"
      },
      "execution_count": 18,
      "outputs": [
        {
          "output_type": "stream",
          "name": "stdout",
          "text": [
            "['H', 'e', 'l', 'l', 'o', '_', '1', '2', '3']\n"
          ]
        }
      ]
    },
    {
      "cell_type": "code",
      "source": [
        "pattern = r\"he..o\"\n",
        "texts = [\"hello\", \"he77o\", \"he_o\", \"heo\"]\n",
        "\n",
        "for text in texts:\n",
        "    if re.fullmatch(pattern, text):\n",
        "        print(f\"{text} matched\")\n",
        "    else:\n",
        "        print(f\"{text} did NOT match\")"
      ],
      "metadata": {
        "colab": {
          "base_uri": "https://localhost:8080/"
        },
        "id": "rIDmiZHj6cZA",
        "outputId": "60e39dda-fb8f-44a5-97f9-c3f146ff5e78"
      },
      "execution_count": 12,
      "outputs": [
        {
          "output_type": "stream",
          "name": "stdout",
          "text": [
            "hello matched\n",
            "he77o matched\n",
            "he_o did NOT match\n",
            "heo did NOT match\n"
          ]
        }
      ]
    },
    {
      "cell_type": "code",
      "source": [
        "pattern = r\"he.o\"\n",
        "texts = [\"hello\", \"he77o\", \"he_o\", \"heo\"]\n",
        "\n",
        "for text in texts:\n",
        "    if re.fullmatch(pattern, text):\n",
        "        print(f\"{text} matched\")\n",
        "    else:\n",
        "        print(f\"{text} did NOT match\")"
      ],
      "metadata": {
        "colab": {
          "base_uri": "https://localhost:8080/"
        },
        "id": "Lv363tXz6w1H",
        "outputId": "482253e0-2931-45bd-af24-38c6f1076a57"
      },
      "execution_count": 13,
      "outputs": [
        {
          "output_type": "stream",
          "name": "stdout",
          "text": [
            "hello did NOT match\n",
            "he77o did NOT match\n",
            "he_o matched\n",
            "heo did NOT match\n"
          ]
        }
      ]
    },
    {
      "cell_type": "code",
      "source": [
        "pattern = r\"a.c\"\n",
        "texts = [\"abc\", \"a1c\", \"a-c\", \"ac\"]\n",
        "\n",
        "matches = [t for t in texts if re.fullmatch(pattern, t)]\n",
        "print(matches)"
      ],
      "metadata": {
        "colab": {
          "base_uri": "https://localhost:8080/"
        },
        "id": "jnbXrTLZ6y87",
        "outputId": "286b693c-ff7f-47f3-ba1a-0403b9f6076b"
      },
      "execution_count": 16,
      "outputs": [
        {
          "output_type": "stream",
          "name": "stdout",
          "text": [
            "['abc', 'a1c', 'a-c']\n"
          ]
        }
      ]
    },
    {
      "cell_type": "code",
      "source": [
        "pattern = r\"^hello\"\n",
        "texts = [\"hello world\", \"say hello\", \"hello\"]\n",
        "\n",
        "for text in texts:\n",
        "    if re.match(pattern, text):\n",
        "        print(f\"{text} → True\")\n",
        "    else:\n",
        "        print(f\"{text} → False\")"
      ],
      "metadata": {
        "colab": {
          "base_uri": "https://localhost:8080/"
        },
        "id": "f_1V2yJY7HNn",
        "outputId": "44ab8ed7-a4e4-4124-b048-dc1db34f4939"
      },
      "execution_count": 19,
      "outputs": [
        {
          "output_type": "stream",
          "name": "stdout",
          "text": [
            "hello world → True\n",
            "say hello → False\n",
            "hello → True\n"
          ]
        }
      ]
    },
    {
      "cell_type": "code",
      "source": [
        "pattern = r\"^a\"\n",
        "texts = [\"apple\", \"banana\", \"avocado\"]\n",
        "\n",
        "matches = [t for t in texts if re.match(pattern, t)]\n",
        "print(matches)"
      ],
      "metadata": {
        "colab": {
          "base_uri": "https://localhost:8080/"
        },
        "id": "yOgUlt5v7eOH",
        "outputId": "7b16c3d2-9a64-458c-ecad-993b620a8c15"
      },
      "execution_count": 21,
      "outputs": [
        {
          "output_type": "stream",
          "name": "stdout",
          "text": [
            "['apple', 'avocado']\n"
          ]
        }
      ]
    },
    {
      "cell_type": "code",
      "source": [
        "pattern = r\"planet$\"\n",
        "texts = [\"green planet\", \"planet earth\", \"planet\"]\n",
        "\n",
        "for text in texts:\n",
        "    if re.search(pattern, text):\n",
        "        print(f\"{text} → True\")\n",
        "    else:\n",
        "        print(f\"{text} → False\")"
      ],
      "metadata": {
        "colab": {
          "base_uri": "https://localhost:8080/"
        },
        "id": "gMmGioqo7oxy",
        "outputId": "c047b712-92cf-4e92-b836-a921a2da89c4"
      },
      "execution_count": 22,
      "outputs": [
        {
          "output_type": "stream",
          "name": "stdout",
          "text": [
            "green planet → True\n",
            "planet earth → False\n",
            "planet → True\n"
          ]
        }
      ]
    },
    {
      "cell_type": "code",
      "source": [
        "pattern = r\"ing$\"\n",
        "texts = [\"running\", \"singing\", \"run\", \"bring\"]\n",
        "\n",
        "matches = [t for t in texts if re.search(pattern, t)]\n",
        "print(matches)"
      ],
      "metadata": {
        "colab": {
          "base_uri": "https://localhost:8080/"
        },
        "id": "Mbguz-147463",
        "outputId": "47420eb5-10f8-459b-a57f-4512ce572ea3"
      },
      "execution_count": 26,
      "outputs": [
        {
          "output_type": "stream",
          "name": "stdout",
          "text": [
            "['running', 'singing', 'bring']\n"
          ]
        }
      ]
    },
    {
      "cell_type": "code",
      "source": [
        "pattern = r\"he.*o\"\n",
        "texts = [\"heo\", \"hello\", \"he123o\", \"heoo\", \"he o\"]\n",
        "\n",
        "for text in texts:\n",
        "    if re.fullmatch(pattern, text):\n",
        "        print(f\"{text} → True\")\n",
        "    else:\n",
        "        print(f\"{text} → False\")"
      ],
      "metadata": {
        "colab": {
          "base_uri": "https://localhost:8080/"
        },
        "id": "vJBCNcXw8RwQ",
        "outputId": "e0e365ec-9e36-4875-d3d5-9284eb023e66"
      },
      "execution_count": 32,
      "outputs": [
        {
          "output_type": "stream",
          "name": "stdout",
          "text": [
            "heo → True\n",
            "hello → True\n",
            "he123o → True\n",
            "heoo → True\n",
            "he o → True\n"
          ]
        }
      ]
    },
    {
      "cell_type": "code",
      "source": [
        "pattern = r\"a*b\"\n",
        "texts = [\"b\", \"ab\", \"aaab\", \"aab\", \"c\"]\n",
        "\n",
        "matches = [t for t in texts if re.fullmatch(pattern, t)]\n",
        "print(matches)"
      ],
      "metadata": {
        "colab": {
          "base_uri": "https://localhost:8080/"
        },
        "id": "jAwuRFSu9b_n",
        "outputId": "307df432-372c-4df6-efd6-d87899e3e3c3"
      },
      "execution_count": 33,
      "outputs": [
        {
          "output_type": "stream",
          "name": "stdout",
          "text": [
            "['b', 'ab', 'aaab', 'aab']\n"
          ]
        }
      ]
    },
    {
      "cell_type": "code",
      "source": [
        "pattern = r\"he.+o\"\n",
        "texts = [\"heo\", \"hello\", \"he123o\", \"heoo\", \"he o\"]\n",
        "\n",
        "for text in texts:\n",
        "    if re.fullmatch(pattern, text):\n",
        "        print(f\"{text} → True\")\n",
        "    else:\n",
        "        print(f\"{text} → False\")"
      ],
      "metadata": {
        "colab": {
          "base_uri": "https://localhost:8080/"
        },
        "id": "Ib1HxhRf9lHe",
        "outputId": "04a0b6c1-d016-4960-9d72-a71c604ea02c"
      },
      "execution_count": 34,
      "outputs": [
        {
          "output_type": "stream",
          "name": "stdout",
          "text": [
            "heo → False\n",
            "hello → True\n",
            "he123o → True\n",
            "heoo → True\n",
            "he o → True\n"
          ]
        }
      ]
    },
    {
      "cell_type": "code",
      "source": [
        "pattern = r\"a+b\"\n",
        "texts = [\"b\", \"ab\", \"aaab\", \"aab\", \"c\"]\n",
        "\n",
        "matches = [t for t in texts if re.fullmatch(pattern, t)]\n",
        "print(matches)"
      ],
      "metadata": {
        "colab": {
          "base_uri": "https://localhost:8080/"
        },
        "id": "8VHKmdXb98P8",
        "outputId": "c8267d79-e4b1-4e68-ec82-64bbd3f9aee3"
      },
      "execution_count": 36,
      "outputs": [
        {
          "output_type": "stream",
          "name": "stdout",
          "text": [
            "['ab', 'aaab', 'aab']\n"
          ]
        }
      ]
    },
    {
      "cell_type": "code",
      "source": [
        "pattern = r\"he.?o\"\n",
        "texts = [\"heo\", \"helo\",\"hello\", \"heoo\", \"he123o\"]\n",
        "\n",
        "for text in texts:\n",
        "    if re.fullmatch(pattern, text):\n",
        "        print(f\"{text} → True\")\n",
        "    else:\n",
        "        print(f\"{text} → False\")"
      ],
      "metadata": {
        "colab": {
          "base_uri": "https://localhost:8080/"
        },
        "id": "nzYKVL0E-BNq",
        "outputId": "5797d2a6-b616-4d1e-f530-e98b3164245e"
      },
      "execution_count": 38,
      "outputs": [
        {
          "output_type": "stream",
          "name": "stdout",
          "text": [
            "heo → True\n",
            "helo → True\n",
            "hello → False\n",
            "heoo → True\n",
            "he123o → False\n"
          ]
        }
      ]
    },
    {
      "cell_type": "code",
      "source": [
        "pattern = r\"a?b\"\n",
        "texts = [\"b\", \"ab\", \"aab\", \"c\"]\n",
        "\n",
        "matches = [t for t in texts if re.fullmatch(pattern, t)]\n",
        "print(matches)"
      ],
      "metadata": {
        "colab": {
          "base_uri": "https://localhost:8080/"
        },
        "id": "kUcIfD3Q_GoT",
        "outputId": "cde0f7c6-04dc-440a-8dcb-7da8d1f95268"
      },
      "execution_count": 39,
      "outputs": [
        {
          "output_type": "stream",
          "name": "stdout",
          "text": [
            "['b', 'ab']\n"
          ]
        }
      ]
    },
    {
      "cell_type": "code",
      "source": [
        "pattern = r\"a{3}\"\n",
        "texts = [\"a\", \"aa\", \"aaa\", \"aaaa\"]\n",
        "matches = [t for t in texts if re.fullmatch(pattern, t)]\n",
        "print(matches)"
      ],
      "metadata": {
        "colab": {
          "base_uri": "https://localhost:8080/"
        },
        "id": "Z_K5Lo-E_Zzv",
        "outputId": "58ee33ad-c17b-4880-943d-cd05df4212b2"
      },
      "execution_count": 50,
      "outputs": [
        {
          "output_type": "stream",
          "name": "stdout",
          "text": [
            "['aaa']\n"
          ]
        }
      ]
    },
    {
      "cell_type": "code",
      "source": [
        "pattern = r\"`\"  # backtick match করতে\n",
        "text = \"This is a `test` string.\"\n",
        "\n",
        "matches = re.findall(pattern, text)\n",
        "print(matches)"
      ],
      "metadata": {
        "colab": {
          "base_uri": "https://localhost:8080/"
        },
        "id": "Xr8R44zAAiiu",
        "outputId": "5dcbcff0-0c98-4760-a112-7e27bde7dcd4"
      },
      "execution_count": 51,
      "outputs": [
        {
          "output_type": "stream",
          "name": "stdout",
          "text": [
            "['`', '`']\n"
          ]
        }
      ]
    },
    {
      "cell_type": "code",
      "source": [
        "pattern = r\"cat|dog\"\n",
        "texts = [\"I have a cat\", \"I have a dog\", \"I have a bird\"]\n",
        "\n",
        "for text in texts:\n",
        "    if re.search(pattern, text):\n",
        "        print(f\"{text} → Match\")\n",
        "    else:\n",
        "        print(f\"{text} → No match\")"
      ],
      "metadata": {
        "colab": {
          "base_uri": "https://localhost:8080/"
        },
        "id": "Ge6mGmmOAjef",
        "outputId": "ede7f49a-315f-41b8-93d7-9b6d14b56c1a"
      },
      "execution_count": 52,
      "outputs": [
        {
          "output_type": "stream",
          "name": "stdout",
          "text": [
            "I have a cat → Match\n",
            "I have a dog → Match\n",
            "I have a bird → No match\n"
          ]
        }
      ]
    },
    {
      "cell_type": "code",
      "source": [
        "pattern = r\"apple|banana|orange\"\n",
        "texts = [\"I like apple\", \"I like banana\", \"I like grapes\"]\n",
        "\n",
        "matches = [t for t in texts if re.search(pattern, t)]\n",
        "print(matches)"
      ],
      "metadata": {
        "colab": {
          "base_uri": "https://localhost:8080/"
        },
        "id": "qT1L8LqSA1WN",
        "outputId": "db0d8861-d336-4549-953d-c8b6ea63c1b4"
      },
      "execution_count": 54,
      "outputs": [
        {
          "output_type": "stream",
          "name": "stdout",
          "text": [
            "['I like apple', 'I like banana']\n"
          ]
        }
      ]
    },
    {
      "cell_type": "code",
      "source": [
        "pattern = r\"(abc)(xyz)\"\n",
        "text = \"abcxyz\"\n",
        "\n",
        "matches = re.fullmatch(pattern, text)\n",
        "print(matches.groups())"
      ],
      "metadata": {
        "colab": {
          "base_uri": "https://localhost:8080/"
        },
        "id": "ZK-_wtBwBBOn",
        "outputId": "78155883-76a0-43ad-f7f9-675e4e4aa3fd"
      },
      "execution_count": 59,
      "outputs": [
        {
          "output_type": "stream",
          "name": "stdout",
          "text": [
            "('abc', 'xyz')\n"
          ]
        }
      ]
    },
    {
      "cell_type": "code",
      "source": [
        "pattern = r\"My name is (\\w+) (\\w+)\"\n",
        "text = \"My name is John Doe\"\n",
        "\n",
        "matches = re.search(pattern, text)\n",
        "print(matches.groups())\n"
      ],
      "metadata": {
        "colab": {
          "base_uri": "https://localhost:8080/"
        },
        "id": "9S4hc9PoBPJM",
        "outputId": "8d60c662-5cf6-4812-a6ec-cedb81c5dbc7"
      },
      "execution_count": 64,
      "outputs": [
        {
          "output_type": "stream",
          "name": "stdout",
          "text": [
            "('John', 'Doe')\n"
          ]
        }
      ]
    }
  ]
}